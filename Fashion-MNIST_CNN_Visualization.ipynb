{
  "cells": [
    {
      "metadata": {
        "_uuid": "8f2839f25d086af736a60e9eeb907d3b93b6e0e5",
        "_cell_guid": "b1076dfc-b9ad-4769-8c92-a6c4dae69d19",
        "trusted": true,
        "collapsed": true
      },
      "cell_type": "code",
      "source": "import numpy as np # linear algebra\nimport pandas as pd # data processing, CSV file I/O (e.g. pd.read_csv)\nimport os\nprint(os.listdir(\"../input\"))\nimport matplotlib.pyplot as plt\nimport seaborn as sns\n\nfrom keras import models\nfrom keras.models import Sequential, Model\nfrom keras.layers import Dense, Activation, Flatten, Dropout\nfrom keras.layers.convolutional import Conv2D, MaxPooling2D\nfrom keras.optimizers import SGD, Adam, RMSprop\nfrom keras.utils import np_utils\nfrom keras.applications.vgg16 import VGG16, preprocess_input\nfrom keras.preprocessing import image\nfrom keras.preprocessing.image import ImageDataGenerator\n\nimport cv2\nimport random\n\nimport tensorflow as tf\nfrom keras.backend.tensorflow_backend import set_session\nconfig = tf.ConfigProto()\nconfig.gpu_options.allow_growth=True\nset_session(tf.Session(config=config))",
      "execution_count": null,
      "outputs": []
    },
    {
      "metadata": {
        "_uuid": "10b4aa4ac47444ff41d8b455df17c5b17eb6df6d"
      },
      "cell_type": "markdown",
      "source": "# 1. EDA"
    },
    {
      "metadata": {
        "_cell_guid": "79c7e3d0-c299-4dcb-8224-4455121ee9b0",
        "_uuid": "d629ff2d2480ee46fbb7e2d37f6b5fab8052498a",
        "trusted": true,
        "collapsed": true
      },
      "cell_type": "code",
      "source": "train_df = pd.read_csv('../input/fashion-mnist_train.csv')\ntest_df = pd.read_csv('../input/fashion-mnist_test.csv')\nprint(train_df.shape)\nprint(test_df.shape)",
      "execution_count": null,
      "outputs": []
    },
    {
      "metadata": {
        "trusted": true,
        "_uuid": "1d37b4ce92ae63b187d9612c96c40100a63cde8a",
        "collapsed": true
      },
      "cell_type": "code",
      "source": "train_df.head()",
      "execution_count": null,
      "outputs": []
    },
    {
      "metadata": {
        "trusted": true,
        "collapsed": true,
        "_uuid": "057086087e0adeabd231c64b1a68ad896dd7981a"
      },
      "cell_type": "code",
      "source": "feat_cols = train_df.columns.tolist()[1:]",
      "execution_count": null,
      "outputs": []
    },
    {
      "metadata": {
        "trusted": true,
        "_uuid": "4c97486c3eb91a7efcbb3a8cdad10daa15ac0f45",
        "collapsed": true
      },
      "cell_type": "code",
      "source": "image_df = train_df[feat_cols].values.reshape(-1,28,28,1)\nimage_df.shape",
      "execution_count": null,
      "outputs": []
    },
    {
      "metadata": {
        "trusted": true,
        "_uuid": "0a621eaf79eff5f48ab4af42a2dfe385f41abf6a",
        "collapsed": true
      },
      "cell_type": "code",
      "source": "for i in range(6):\n    plt.subplot(2,3,i+1)\n    plt.imshow(image_df[i][:,:,0], cmap='Greys')\n    plt.tight_layout()\n#     plt.show() # if show(), subplot doesn't work",
      "execution_count": null,
      "outputs": []
    },
    {
      "metadata": {
        "trusted": true,
        "collapsed": true,
        "_uuid": "8055bd4f8e57f7816b0b819cf53cbebaadb3326f"
      },
      "cell_type": "markdown",
      "source": "# 2. Modeling - CNN"
    },
    {
      "metadata": {
        "trusted": true,
        "_uuid": "dad1cfe8a6ace97c5c3abacb5d8799ccf9834782",
        "collapsed": true
      },
      "cell_type": "code",
      "source": "X_train = train_df[feat_cols].values.reshape(-1,28,28,1)/255\nX_test = test_df[feat_cols].values.reshape(-1,28,28,1)/255\ny_train = np_utils.to_categorical(train_df['label'].values)\ny_test = np_utils.to_categorical(test_df['label'].values)",
      "execution_count": null,
      "outputs": []
    },
    {
      "metadata": {
        "trusted": true,
        "_uuid": "859b0c10494cb7d886509d92d38427a4e348f8d1",
        "collapsed": true
      },
      "cell_type": "code",
      "source": "X_test[0].shape",
      "execution_count": null,
      "outputs": []
    },
    {
      "metadata": {
        "trusted": true,
        "collapsed": true,
        "_uuid": "440148b3e658fca9052a0d9e5d3a034d829ffe45"
      },
      "cell_type": "code",
      "source": "model = Sequential()\nmodel.add(Conv2D(32, kernel_size=3, input_shape=(28,28,1), padding='same', activation='relu'))\nmodel.add(Conv2D(32, kernel_size=3, padding='same', activation='relu'))\nmodel.add(MaxPooling2D(2))\nmodel.add(Conv2D(64, kernel_size=3, padding='same', activation='relu'))\nmodel.add(Conv2D(64, kernel_size=3, padding='same', activation='relu'))\nmodel.add(MaxPooling2D(2))\nmodel.add(Conv2D(128, kernel_size=3, padding='same', activation='relu'))\nmodel.add(Conv2D(128, kernel_size=3, padding='same', activation='relu'))\nmodel.add(MaxPooling2D(2))\nmodel.add(Flatten())\n\nmodel.add(Dense(256, activation='relu'))\nmodel.add(Dropout(0.5))\nmodel.add(Dense(256, activation='relu'))\nmodel.add(Dropout(0.5))\n\nmodel.add(Dense(10, activation='softmax'))\nmodel.compile(loss='categorical_crossentropy', optimizer='adam', metrics=['accuracy'])",
      "execution_count": null,
      "outputs": []
    },
    {
      "metadata": {
        "trusted": true,
        "_uuid": "efb2cd3ee0c0c97e5737259640f8f6d6a2916578",
        "collapsed": true
      },
      "cell_type": "code",
      "source": "history = model.fit(X_train,y_train, validation_data=(X_test,y_test),batch_size=128, epochs=10, verbose=1)",
      "execution_count": null,
      "outputs": []
    },
    {
      "metadata": {
        "trusted": true,
        "_uuid": "9f92d6d2e93b453c32da76aea9e09942f6276f3a",
        "collapsed": true
      },
      "cell_type": "code",
      "source": "plt.plot(history.history['loss'], label='train')\nplt.plot(history.history['val_loss'], label='test')\nplt.title('Loss')\nplt.legend(loc='best')\nplt.xlabel('epochs')\nplt.ylabel('loss')",
      "execution_count": null,
      "outputs": []
    },
    {
      "metadata": {
        "trusted": true,
        "_uuid": "0254dc91c1eea9554f68f9a33ac71331fcbe10ae",
        "collapsed": true
      },
      "cell_type": "code",
      "source": "plt.plot(history.history['acc'], label='train')\nplt.plot(history.history['val_acc'], label='test')\nplt.title('Accuracy')\nplt.legend(loc='best')\nplt.xlabel('epochs')\nplt.ylabel('loss')",
      "execution_count": null,
      "outputs": []
    },
    {
      "metadata": {
        "trusted": true,
        "collapsed": true,
        "_uuid": "0c3c0645c821a45e7852f24cba54adff59821512"
      },
      "cell_type": "markdown",
      "source": "# 3.  Summary"
    },
    {
      "metadata": {
        "trusted": true,
        "collapsed": true,
        "_uuid": "e0eec4d8e57405e2eb70c5859824c775c816bb7e"
      },
      "cell_type": "markdown",
      "source": "[Numpy.nonzero() 详解 numpy module中 nonzero（）函数](https://blog.csdn.net/roler_/article/details/42395393)\n```\n>>> x = np.array([[1,0,0], [0,2,0], [1,1,0]])\n>>> x\narray([[1, 0, 0],\n       [0, 2, 0],\n       [1, 1, 0]])\n>>> np.nonzero(x)\n(array([0, 1, 2, 2]), array([0, 1, 0, 1])) # non zero row index array, no zero column index array\n```\n\n```\n>>> a = np.array([[1,2,3],[4,5,6],[7,8,9]])\n>>> a > 3\narray([[False, False, False],\n       [ True,  True,  True],\n       [ True,  True,  True]])\n>>> np.nonzero(a > 3)\n(array([1, 1, 1, 2, 2, 2]), array([0, 1, 2, 0, 1, 2]))\n```"
    },
    {
      "metadata": {
        "_uuid": "547c3cdc14ed93f428d10d8439a3b0aa059573d9"
      },
      "cell_type": "markdown",
      "source": "**one-hot -> label**"
    },
    {
      "metadata": {
        "trusted": true,
        "_uuid": "66aca6b5e1d21ee9821d8e20e234b0ddd34a01d9",
        "collapsed": true
      },
      "cell_type": "code",
      "source": "y_true = y_test\nprint(y_true.shape)",
      "execution_count": null,
      "outputs": []
    },
    {
      "metadata": {
        "trusted": true,
        "_uuid": "c5618a2786cace0e800db55c0b581d8bfe773aee",
        "collapsed": true
      },
      "cell_type": "code",
      "source": "np.nonzero(y_true)",
      "execution_count": null,
      "outputs": []
    },
    {
      "metadata": {
        "trusted": true,
        "_uuid": "315601fc21b5d0e54ca1c23d3845c26c2891175a",
        "collapsed": true
      },
      "cell_type": "code",
      "source": "y_predict = model.predict_classes(X_test)\ny_true = np.nonzero(y_true)[1]\nprint(y_predict.shape)\nprint(y_true.shape)",
      "execution_count": null,
      "outputs": []
    },
    {
      "metadata": {
        "trusted": true,
        "_uuid": "ad92607e673c5a9bf44dce7f76d38bdfeab12db3",
        "collapsed": true
      },
      "cell_type": "code",
      "source": "y_predict",
      "execution_count": null,
      "outputs": []
    },
    {
      "metadata": {
        "trusted": true,
        "_uuid": "9d299ff8eb2aefad9f880f9e15f7d73f7b738db8",
        "collapsed": true
      },
      "cell_type": "code",
      "source": "y_true",
      "execution_count": null,
      "outputs": []
    },
    {
      "metadata": {
        "trusted": true,
        "_uuid": "38d0b4250a01089c14fe5f0a7005c36f68489e35",
        "collapsed": true
      },
      "cell_type": "code",
      "source": "from sklearn.metrics import classification_report\nprint(classification_report(y_true, y_predict, target_names=['class {}'.format(i) for i in range(10)]))\n\n# 精度(precision) = 正确预测的个数(TP)/被预测正确的个数(TP+FP)\n# 召回率(recall)=正确预测的个数(TP)/预测个数(TP+FN)\n# F1 = 2*精度*召回率/(精度+召回率)",
      "execution_count": null,
      "outputs": []
    },
    {
      "metadata": {
        "trusted": true,
        "collapsed": true,
        "_uuid": "3f6fcac996c85467a916bf997258576fb36306e3"
      },
      "cell_type": "markdown",
      "source": "**get index of correct / incoreect**"
    },
    {
      "metadata": {
        "trusted": true,
        "_uuid": "21e7d186e86ff8dd9ae65276583146c48566cb0f",
        "collapsed": true
      },
      "cell_type": "code",
      "source": "correct = np.nonzero(y_true == y_predict)[0]\nincorrect = np.nonzero(y_true != y_predict)[0]\nincorrect[:5]",
      "execution_count": null,
      "outputs": []
    },
    {
      "metadata": {
        "trusted": true,
        "_uuid": "832120fd4156a7b899f2e5928648380c19baad53",
        "collapsed": true
      },
      "cell_type": "code",
      "source": "for i, loc in enumerate(incorrect[:6]):\n#     print('incorrect predict img location in test set', loc)\n    plt.subplot(3,3,i+1)\n    plt.imshow(X_test[loc][:,:,0], cmap='Greys')\n    plt.title('predict_{} vs true_{}'.format(y_predict[loc], y_true[loc]))\n    plt.tight_layout()\n# can not use ```for i in incorrect[:6] ```, because i is in []5,7,53,51,...\n# when subplot will lead to i+1 > 3*3",
      "execution_count": null,
      "outputs": []
    },
    {
      "metadata": {
        "trusted": true,
        "_uuid": "08f39e4d4f43cb1898f90ef68a2b33901f42007a",
        "collapsed": true
      },
      "cell_type": "code",
      "source": "model.summary()",
      "execution_count": null,
      "outputs": []
    },
    {
      "metadata": {
        "_uuid": "67b01829d67388a506ab095c799790f01fba7bc9"
      },
      "cell_type": "markdown",
      "source": "# Visualization"
    },
    {
      "metadata": {
        "trusted": true,
        "_uuid": "47ceb0ac1a402799c5e2728ddb94b2447928d495",
        "collapsed": true
      },
      "cell_type": "code",
      "source": "print(len(model.layers))\nmodel.layers",
      "execution_count": null,
      "outputs": []
    },
    {
      "metadata": {
        "trusted": true,
        "_uuid": "d6df8362680e9ff97d7dca202b7276a754fb197e",
        "collapsed": true
      },
      "cell_type": "code",
      "source": "print(model.layers[0].name)\nmodel.layers[0].output",
      "execution_count": null,
      "outputs": []
    },
    {
      "metadata": {
        "trusted": true,
        "_uuid": "7917972e46e83f326a822dea7fd65ca5f43b563b",
        "collapsed": true
      },
      "cell_type": "code",
      "source": "model.input",
      "execution_count": null,
      "outputs": []
    },
    {
      "metadata": {
        "trusted": true,
        "_uuid": "8a993a27c369ea067bebef0fc2e5cdb311b5fad6",
        "collapsed": true
      },
      "cell_type": "code",
      "source": "from keras import models\nmodels.Model(input=model.input, output=model.layers[0].output)",
      "execution_count": null,
      "outputs": []
    },
    {
      "metadata": {
        "_uuid": "11952c48e0aa192de947aee35324a8d6ad8d8826"
      },
      "cell_type": "markdown",
      "source": "**model.layers[0],  1st conv layer,  to show image of train[1]**"
    },
    {
      "metadata": {
        "trusted": true,
        "_uuid": "07c7ab825243abd3d66e34216292cb625cded73e",
        "collapsed": true
      },
      "cell_type": "code",
      "source": "activation_model = models.Model(input=model.input, output=model.layers[0].output)\nactivations = activation_model.predict(X_train[1].reshape(1,28,28,1))\nactivations.shape",
      "execution_count": null,
      "outputs": []
    },
    {
      "metadata": {
        "trusted": true,
        "_uuid": "6c1cb318d01ce6e705f5e4637eb84e0a3d70ee2b",
        "collapsed": true
      },
      "cell_type": "code",
      "source": "activations[0].shape",
      "execution_count": null,
      "outputs": []
    },
    {
      "metadata": {
        "trusted": true,
        "_uuid": "1a1a280209c50b3b467ea634c2ee77c155428c3c",
        "collapsed": true
      },
      "cell_type": "code",
      "source": "plt.imshow(X_train[1][:,:,0])",
      "execution_count": null,
      "outputs": []
    },
    {
      "metadata": {
        "trusted": true,
        "_uuid": "13eb7753d68da78fae3947a24b41bd2dd91f7a4b",
        "collapsed": true
      },
      "cell_type": "code",
      "source": "size = 32\nplt.figure(figsize=(10,10))\nfor i in range(size): # i in range(32)，kernel size\n    plt.subplot(size/8,8,i+1)\n    plt.imshow(activations[0][:,:,i]) # plt.matshow() cannot be shown in subplots\n    plt.title('kernel {}'.format(i))\n    plt.tight_layout()",
      "execution_count": null,
      "outputs": []
    },
    {
      "metadata": {
        "trusted": true,
        "_uuid": "8d336c45415fb926b3f7efd26ff3f7a4c4ab2882",
        "collapsed": true
      },
      "cell_type": "code",
      "source": "# show conv & maxpooling in all CNN\nfor i in model.layers[:9]: # first 9 layers are conv neural network\n    print(i)\n    model_layer = Model(inputs=model.input, outputs=i.output)\n    layer_activation = model_layer.predict(X_train[1].reshape(1,28,28,1))\n    print(layer_activation.shape)\n    kernel_size = layer_activation.shape[-1]\n    plt.figure(figsize=(50,50))\n    for j in range(kernel_size):\n        plt.subplot(kernel_size/8, 8, j+1)\n        plt.imshow(layer_activation[0][:,:,j])\n        plt.title('{} - kernel_{}'.format(i.name, j))\n        plt.tight_layout()\n    print('---------'*10)",
      "execution_count": null,
      "outputs": []
    },
    {
      "metadata": {
        "trusted": true,
        "collapsed": true,
        "_uuid": "13565bdd00ec725683e1bd1e4934868df9a97e44"
      },
      "cell_type": "code",
      "source": "",
      "execution_count": null,
      "outputs": []
    },
    {
      "metadata": {
        "trusted": true,
        "collapsed": true,
        "_uuid": "0c806814752aa95c2deb4ab95c052a7d2795eca9"
      },
      "cell_type": "code",
      "source": "",
      "execution_count": null,
      "outputs": []
    },
    {
      "metadata": {
        "trusted": true,
        "collapsed": true,
        "_uuid": "7326289e4d37c292cd66ee00390a1c6c2445ed86"
      },
      "cell_type": "code",
      "source": "",
      "execution_count": null,
      "outputs": []
    },
    {
      "metadata": {
        "trusted": true,
        "collapsed": true,
        "_uuid": "58702dcf21bd764d6d6a233ca1fa54fe13b9b47f"
      },
      "cell_type": "code",
      "source": "",
      "execution_count": null,
      "outputs": []
    }
  ],
  "metadata": {
    "kernelspec": {
      "display_name": "Python 3",
      "language": "python",
      "name": "python3"
    },
    "language_info": {
      "name": "python",
      "version": "3.6.4",
      "mimetype": "text/x-python",
      "codemirror_mode": {
        "name": "ipython",
        "version": 3
      },
      "pygments_lexer": "ipython3",
      "nbconvert_exporter": "python",
      "file_extension": ".py"
    }
  },
  "nbformat": 4,
  "nbformat_minor": 1
}