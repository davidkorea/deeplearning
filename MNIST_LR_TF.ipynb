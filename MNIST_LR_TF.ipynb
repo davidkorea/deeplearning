{
  "cells": [
    {
      "metadata": {
        "_uuid": "8f2839f25d086af736a60e9eeb907d3b93b6e0e5",
        "_cell_guid": "b1076dfc-b9ad-4769-8c92-a6c4dae69d19",
        "trusted": true
      },
      "cell_type": "code",
      "source": "import numpy as np # linear algebra\nimport pandas as pd # data processing, CSV file I/O (e.g. pd.read_csv)\nimport os\nprint(os.listdir(\"../input\"))\nimport tensorflow as tf\nimport matplotlib.pyplot as plt\nimport seaborn as sns\nfrom sklearn.model_selection import train_test_split",
      "execution_count": 1,
      "outputs": [
        {
          "output_type": "stream",
          "text": "['train.csv', 'sample_submission.csv', 'test.csv']\n",
          "name": "stdout"
        },
        {
          "output_type": "stream",
          "text": "/opt/conda/lib/python3.6/site-packages/h5py/__init__.py:36: FutureWarning: Conversion of the second argument of issubdtype from `float` to `np.floating` is deprecated. In future, it will be treated as `np.float64 == np.dtype(float).type`.\n  from ._conv import register_converters as _register_converters\n",
          "name": "stderr"
        }
      ]
    },
    {
      "metadata": {
        "_cell_guid": "79c7e3d0-c299-4dcb-8224-4455121ee9b0",
        "collapsed": true,
        "_uuid": "d629ff2d2480ee46fbb7e2d37f6b5fab8052498a",
        "trusted": true
      },
      "cell_type": "code",
      "source": "train_df = pd.read_csv('../input/train.csv')",
      "execution_count": 2,
      "outputs": []
    },
    {
      "metadata": {
        "trusted": true,
        "_uuid": "7f999ca86e3e671f40c62891d62081adb16a0db5"
      },
      "cell_type": "code",
      "source": "train_df.shape",
      "execution_count": 3,
      "outputs": [
        {
          "output_type": "execute_result",
          "execution_count": 3,
          "data": {
            "text/plain": "(42000, 785)"
          },
          "metadata": {}
        }
      ]
    },
    {
      "metadata": {
        "trusted": true,
        "_uuid": "7b92b1f34537aa3bbef1cb42b9b40a7cdd5ab328"
      },
      "cell_type": "code",
      "source": "train_df.head()",
      "execution_count": 4,
      "outputs": [
        {
          "output_type": "execute_result",
          "execution_count": 4,
          "data": {
            "text/plain": "   label  pixel0  pixel1  pixel2  pixel3  pixel4  pixel5  pixel6  pixel7  \\\n0      1       0       0       0       0       0       0       0       0   \n1      0       0       0       0       0       0       0       0       0   \n2      1       0       0       0       0       0       0       0       0   \n3      4       0       0       0       0       0       0       0       0   \n4      0       0       0       0       0       0       0       0       0   \n\n   pixel8    ...     pixel774  pixel775  pixel776  pixel777  pixel778  \\\n0       0    ...            0         0         0         0         0   \n1       0    ...            0         0         0         0         0   \n2       0    ...            0         0         0         0         0   \n3       0    ...            0         0         0         0         0   \n4       0    ...            0         0         0         0         0   \n\n   pixel779  pixel780  pixel781  pixel782  pixel783  \n0         0         0         0         0         0  \n1         0         0         0         0         0  \n2         0         0         0         0         0  \n3         0         0         0         0         0  \n4         0         0         0         0         0  \n\n[5 rows x 785 columns]",
            "text/html": "<div>\n<style scoped>\n    .dataframe tbody tr th:only-of-type {\n        vertical-align: middle;\n    }\n\n    .dataframe tbody tr th {\n        vertical-align: top;\n    }\n\n    .dataframe thead th {\n        text-align: right;\n    }\n</style>\n<table border=\"1\" class=\"dataframe\">\n  <thead>\n    <tr style=\"text-align: right;\">\n      <th></th>\n      <th>label</th>\n      <th>pixel0</th>\n      <th>pixel1</th>\n      <th>pixel2</th>\n      <th>pixel3</th>\n      <th>pixel4</th>\n      <th>pixel5</th>\n      <th>pixel6</th>\n      <th>pixel7</th>\n      <th>pixel8</th>\n      <th>...</th>\n      <th>pixel774</th>\n      <th>pixel775</th>\n      <th>pixel776</th>\n      <th>pixel777</th>\n      <th>pixel778</th>\n      <th>pixel779</th>\n      <th>pixel780</th>\n      <th>pixel781</th>\n      <th>pixel782</th>\n      <th>pixel783</th>\n    </tr>\n  </thead>\n  <tbody>\n    <tr>\n      <th>0</th>\n      <td>1</td>\n      <td>0</td>\n      <td>0</td>\n      <td>0</td>\n      <td>0</td>\n      <td>0</td>\n      <td>0</td>\n      <td>0</td>\n      <td>0</td>\n      <td>0</td>\n      <td>...</td>\n      <td>0</td>\n      <td>0</td>\n      <td>0</td>\n      <td>0</td>\n      <td>0</td>\n      <td>0</td>\n      <td>0</td>\n      <td>0</td>\n      <td>0</td>\n      <td>0</td>\n    </tr>\n    <tr>\n      <th>1</th>\n      <td>0</td>\n      <td>0</td>\n      <td>0</td>\n      <td>0</td>\n      <td>0</td>\n      <td>0</td>\n      <td>0</td>\n      <td>0</td>\n      <td>0</td>\n      <td>0</td>\n      <td>...</td>\n      <td>0</td>\n      <td>0</td>\n      <td>0</td>\n      <td>0</td>\n      <td>0</td>\n      <td>0</td>\n      <td>0</td>\n      <td>0</td>\n      <td>0</td>\n      <td>0</td>\n    </tr>\n    <tr>\n      <th>2</th>\n      <td>1</td>\n      <td>0</td>\n      <td>0</td>\n      <td>0</td>\n      <td>0</td>\n      <td>0</td>\n      <td>0</td>\n      <td>0</td>\n      <td>0</td>\n      <td>0</td>\n      <td>...</td>\n      <td>0</td>\n      <td>0</td>\n      <td>0</td>\n      <td>0</td>\n      <td>0</td>\n      <td>0</td>\n      <td>0</td>\n      <td>0</td>\n      <td>0</td>\n      <td>0</td>\n    </tr>\n    <tr>\n      <th>3</th>\n      <td>4</td>\n      <td>0</td>\n      <td>0</td>\n      <td>0</td>\n      <td>0</td>\n      <td>0</td>\n      <td>0</td>\n      <td>0</td>\n      <td>0</td>\n      <td>0</td>\n      <td>...</td>\n      <td>0</td>\n      <td>0</td>\n      <td>0</td>\n      <td>0</td>\n      <td>0</td>\n      <td>0</td>\n      <td>0</td>\n      <td>0</td>\n      <td>0</td>\n      <td>0</td>\n    </tr>\n    <tr>\n      <th>4</th>\n      <td>0</td>\n      <td>0</td>\n      <td>0</td>\n      <td>0</td>\n      <td>0</td>\n      <td>0</td>\n      <td>0</td>\n      <td>0</td>\n      <td>0</td>\n      <td>0</td>\n      <td>...</td>\n      <td>0</td>\n      <td>0</td>\n      <td>0</td>\n      <td>0</td>\n      <td>0</td>\n      <td>0</td>\n      <td>0</td>\n      <td>0</td>\n      <td>0</td>\n      <td>0</td>\n    </tr>\n  </tbody>\n</table>\n<p>5 rows × 785 columns</p>\n</div>"
          },
          "metadata": {}
        }
      ]
    },
    {
      "metadata": {
        "_uuid": "f351f473e5e6a15cf27bb11877b1edaf62eec0ba"
      },
      "cell_type": "markdown",
      "source": "# 1. EDA"
    },
    {
      "metadata": {
        "trusted": true,
        "_uuid": "17e645a5fb487e063c1c25b5b4af28ba1bfe2aa5"
      },
      "cell_type": "code",
      "source": "train_df.columns",
      "execution_count": 5,
      "outputs": [
        {
          "output_type": "execute_result",
          "execution_count": 5,
          "data": {
            "text/plain": "Index(['label', 'pixel0', 'pixel1', 'pixel2', 'pixel3', 'pixel4', 'pixel5',\n       'pixel6', 'pixel7', 'pixel8',\n       ...\n       'pixel774', 'pixel775', 'pixel776', 'pixel777', 'pixel778', 'pixel779',\n       'pixel780', 'pixel781', 'pixel782', 'pixel783'],\n      dtype='object', length=785)"
          },
          "metadata": {}
        }
      ]
    },
    {
      "metadata": {
        "_kg_hide-input": false,
        "trusted": true,
        "collapsed": true,
        "_uuid": "76527ea5ce0227bbb8c1b03e33d3e6fbfd2b8de2"
      },
      "cell_type": "code",
      "source": "feat_cols = train_df.columns.tolist()[1:]\nX_train = train_df[feat_cols]\ny_train = train_df['label']",
      "execution_count": 6,
      "outputs": []
    },
    {
      "metadata": {
        "trusted": true,
        "_uuid": "c3eb711db91bfacbebb13c978f4bf9b1ea2a2d61"
      },
      "cell_type": "code",
      "source": "sns.countplot(y_train)\ny_train.value_counts()",
      "execution_count": 7,
      "outputs": [
        {
          "output_type": "execute_result",
          "execution_count": 7,
          "data": {
            "text/plain": "1    4684\n7    4401\n3    4351\n9    4188\n2    4177\n6    4137\n0    4132\n4    4072\n8    4063\n5    3795\nName: label, dtype: int64"
          },
          "metadata": {}
        },
        {
          "output_type": "display_data",
          "data": {
            "text/plain": "<matplotlib.figure.Figure at 0x7f060cf3e8d0>",
            "image/png": "[encoded data removed]"
          },
          "metadata": {}
        }
      ]
    },
    {
      "metadata": {
        "trusted": true,
        "_uuid": "1f30877d354f22049b64dfb31823bf980166bd70",
        "collapsed": true
      },
      "cell_type": "code",
      "source": "X_train = X_train / 255\nX_train = X_train.values.reshape(-1,28,28,1)\n# # Reshape image in 3 dimensions (-1 (pd 자동계산),ght = 28px, width = 28px , canal = 1) = shape(42000, 28, 28, 1)",
      "execution_count": 8,
      "outputs": []
    },
    {
      "metadata": {
        "_uuid": "f2e227d203875f11c8170d1feacab621715d4a25"
      },
      "cell_type": "markdown",
      "source": "- We perform a grayscale normalization to reduce the effect of illumination's differences. Moreover the CNN converg faster on [0..1] data than on [0..255].\n\n- Train and test images (28px x 28px) has been stock into pandas.Dataframe as 1D vectors of 784 values. We reshape all data to 28 x 28 x 1  3D matrices. **because we will use plt.imshow() to plot image and this function needs hight*width*channel parameters**"
    },
    {
      "metadata": {
        "trusted": true,
        "_uuid": "c733ca4d105865867e4cd5840176b128717b3ab5"
      },
      "cell_type": "code",
      "source": "X_train.shape",
      "execution_count": 9,
      "outputs": [
        {
          "output_type": "execute_result",
          "execution_count": 9,
          "data": {
            "text/plain": "(42000, 28, 28, 1)"
          },
          "metadata": {}
        }
      ]
    },
    {
      "metadata": {
        "_uuid": "2d7ddf08a88492c66eb37cf8766eddc8df414230"
      },
      "cell_type": "markdown",
      "source": "- select this 1st image to show out among 42000 images.```X_train[0]```\n- plot by using all height & all width & all channels pixels ```[:, :, 0]``` == ```[ 0:27, 0:27, 0]```"
    },
    {
      "metadata": {
        "_kg_hide-input": false,
        "trusted": true,
        "_uuid": "09b9c466680da8270534b27737adb60471c1d3fd"
      },
      "cell_type": "code",
      "source": "plt.imshow(X_train[100][:,:,0], cmap='Greys')\nplt.title('X_train[0][:,:,0]')\nplt.show()\nplt.imshow(X_train[10101][0:27,0:27,0], cmap='Greys')\nplt.title('X_train[0][0:27,0:27,0]')\nplt.show()",
      "execution_count": 10,
      "outputs": [
        {
          "output_type": "display_data",
          "data": {
            "text/plain": "<matplotlib.figure.Figure at 0x7f060d0a3f98>",
            "image/png": "[encoded data removed]"
          },
          "metadata": {}
        },
        {
          "output_type": "display_data",
          "data": {
            "text/plain": "<matplotlib.figure.Figure at 0x7f060d059cf8>",
            "image/png": "[encoded data removed]"
          },
          "metadata": {}
        }
      ]
    },
    {
      "metadata": {
        "trusted": true,
        "_uuid": "6e36034774f38f059fc3f52dbe339f86d2e748ff",
        "collapsed": true
      },
      "cell_type": "code",
      "source": "y_train = pd.get_dummies(y_train, prefix='label')",
      "execution_count": 11,
      "outputs": []
    },
    {
      "metadata": {
        "trusted": true,
        "_uuid": "b911a7b91e6ca83fd8144a634431b5fa8f446f27"
      },
      "cell_type": "code",
      "source": "y_train.shape",
      "execution_count": 12,
      "outputs": [
        {
          "output_type": "execute_result",
          "execution_count": 12,
          "data": {
            "text/plain": "(42000, 10)"
          },
          "metadata": {}
        }
      ]
    },
    {
      "metadata": {
        "_uuid": "6e57d024b9a0acef31bcd9ea5d2ceecec53617f7"
      },
      "cell_type": "markdown",
      "source": "# 2. modeling"
    },
    {
      "metadata": {
        "trusted": true,
        "_uuid": "a110420a2501d910ea954f8717218ee16e3fcce5"
      },
      "cell_type": "code",
      "source": "train_df.head()",
      "execution_count": 13,
      "outputs": [
        {
          "output_type": "execute_result",
          "execution_count": 13,
          "data": {
            "text/plain": "   label  pixel0  pixel1  pixel2  pixel3  pixel4  pixel5  pixel6  pixel7  \\\n0      1       0       0       0       0       0       0       0       0   \n1      0       0       0       0       0       0       0       0       0   \n2      1       0       0       0       0       0       0       0       0   \n3      4       0       0       0       0       0       0       0       0   \n4      0       0       0       0       0       0       0       0       0   \n\n   pixel8    ...     pixel774  pixel775  pixel776  pixel777  pixel778  \\\n0       0    ...            0         0         0         0         0   \n1       0    ...            0         0         0         0         0   \n2       0    ...            0         0         0         0         0   \n3       0    ...            0         0         0         0         0   \n4       0    ...            0         0         0         0         0   \n\n   pixel779  pixel780  pixel781  pixel782  pixel783  \n0         0         0         0         0         0  \n1         0         0         0         0         0  \n2         0         0         0         0         0  \n3         0         0         0         0         0  \n4         0         0         0         0         0  \n\n[5 rows x 785 columns]",
            "text/html": "<div>\n<style scoped>\n    .dataframe tbody tr th:only-of-type {\n        vertical-align: middle;\n    }\n\n    .dataframe tbody tr th {\n        vertical-align: top;\n    }\n\n    .dataframe thead th {\n        text-align: right;\n    }\n</style>\n<table border=\"1\" class=\"dataframe\">\n  <thead>\n    <tr style=\"text-align: right;\">\n      <th></th>\n      <th>label</th>\n      <th>pixel0</th>\n      <th>pixel1</th>\n      <th>pixel2</th>\n      <th>pixel3</th>\n      <th>pixel4</th>\n      <th>pixel5</th>\n      <th>pixel6</th>\n      <th>pixel7</th>\n      <th>pixel8</th>\n      <th>...</th>\n      <th>pixel774</th>\n      <th>pixel775</th>\n      <th>pixel776</th>\n      <th>pixel777</th>\n      <th>pixel778</th>\n      <th>pixel779</th>\n      <th>pixel780</th>\n      <th>pixel781</th>\n      <th>pixel782</th>\n      <th>pixel783</th>\n    </tr>\n  </thead>\n  <tbody>\n    <tr>\n      <th>0</th>\n      <td>1</td>\n      <td>0</td>\n      <td>0</td>\n      <td>0</td>\n      <td>0</td>\n      <td>0</td>\n      <td>0</td>\n      <td>0</td>\n      <td>0</td>\n      <td>0</td>\n      <td>...</td>\n      <td>0</td>\n      <td>0</td>\n      <td>0</td>\n      <td>0</td>\n      <td>0</td>\n      <td>0</td>\n      <td>0</td>\n      <td>0</td>\n      <td>0</td>\n      <td>0</td>\n    </tr>\n    <tr>\n      <th>1</th>\n      <td>0</td>\n      <td>0</td>\n      <td>0</td>\n      <td>0</td>\n      <td>0</td>\n      <td>0</td>\n      <td>0</td>\n      <td>0</td>\n      <td>0</td>\n      <td>0</td>\n      <td>...</td>\n      <td>0</td>\n      <td>0</td>\n      <td>0</td>\n      <td>0</td>\n      <td>0</td>\n      <td>0</td>\n      <td>0</td>\n      <td>0</td>\n      <td>0</td>\n      <td>0</td>\n    </tr>\n    <tr>\n      <th>2</th>\n      <td>1</td>\n      <td>0</td>\n      <td>0</td>\n      <td>0</td>\n      <td>0</td>\n      <td>0</td>\n      <td>0</td>\n      <td>0</td>\n      <td>0</td>\n      <td>0</td>\n      <td>...</td>\n      <td>0</td>\n      <td>0</td>\n      <td>0</td>\n      <td>0</td>\n      <td>0</td>\n      <td>0</td>\n      <td>0</td>\n      <td>0</td>\n      <td>0</td>\n      <td>0</td>\n    </tr>\n    <tr>\n      <th>3</th>\n      <td>4</td>\n      <td>0</td>\n      <td>0</td>\n      <td>0</td>\n      <td>0</td>\n      <td>0</td>\n      <td>0</td>\n      <td>0</td>\n      <td>0</td>\n      <td>0</td>\n      <td>...</td>\n      <td>0</td>\n      <td>0</td>\n      <td>0</td>\n      <td>0</td>\n      <td>0</td>\n      <td>0</td>\n      <td>0</td>\n      <td>0</td>\n      <td>0</td>\n      <td>0</td>\n    </tr>\n    <tr>\n      <th>4</th>\n      <td>0</td>\n      <td>0</td>\n      <td>0</td>\n      <td>0</td>\n      <td>0</td>\n      <td>0</td>\n      <td>0</td>\n      <td>0</td>\n      <td>0</td>\n      <td>0</td>\n      <td>...</td>\n      <td>0</td>\n      <td>0</td>\n      <td>0</td>\n      <td>0</td>\n      <td>0</td>\n      <td>0</td>\n      <td>0</td>\n      <td>0</td>\n      <td>0</td>\n      <td>0</td>\n    </tr>\n  </tbody>\n</table>\n<p>5 rows × 785 columns</p>\n</div>"
          },
          "metadata": {}
        }
      ]
    },
    {
      "metadata": {
        "trusted": true,
        "_uuid": "632dd43dc9f061934008dd75cd27293d84b822af"
      },
      "cell_type": "code",
      "source": "X_train.shape",
      "execution_count": 14,
      "outputs": [
        {
          "output_type": "execute_result",
          "execution_count": 14,
          "data": {
            "text/plain": "(42000, 28, 28, 1)"
          },
          "metadata": {}
        }
      ]
    },
    {
      "metadata": {
        "trusted": true,
        "_uuid": "45510740f4b07a8df1c20f6717e154b9cd2ae079"
      },
      "cell_type": "code",
      "source": "y_train.shape",
      "execution_count": 15,
      "outputs": [
        {
          "output_type": "execute_result",
          "execution_count": 15,
          "data": {
            "text/plain": "(42000, 10)"
          },
          "metadata": {}
        }
      ]
    },
    {
      "metadata": {
        "trusted": true,
        "_uuid": "64e3609e292ced88b615ec5ccd8a6410d8c2ab42"
      },
      "cell_type": "code",
      "source": "feat_cols = train_df.columns.tolist()[1:]\nfeat_cols[:5]",
      "execution_count": 16,
      "outputs": [
        {
          "output_type": "execute_result",
          "execution_count": 16,
          "data": {
            "text/plain": "['pixel0', 'pixel1', 'pixel2', 'pixel3', 'pixel4']"
          },
          "metadata": {}
        }
      ]
    },
    {
      "metadata": {
        "trusted": true,
        "collapsed": true,
        "_uuid": "a2dd24d49b05ca759f0670508c637ce218ab104e"
      },
      "cell_type": "code",
      "source": "X = train_df[feat_cols].values\ny = y_train.values\n# y = train_df['label'].values.reshape(-1,1)\n# ValueError: Cannot feed value of shape (128,) for Tensor 'labels_1:0', which has shape '(128, 1)'",
      "execution_count": 17,
      "outputs": []
    },
    {
      "metadata": {
        "trusted": true,
        "_uuid": "178035aea5ea9bb0262cad4c6ea9bbea41a1f215"
      },
      "cell_type": "code",
      "source": "X.shape",
      "execution_count": 18,
      "outputs": [
        {
          "output_type": "execute_result",
          "execution_count": 18,
          "data": {
            "text/plain": "(42000, 784)"
          },
          "metadata": {}
        }
      ]
    },
    {
      "metadata": {
        "trusted": true,
        "_uuid": "a7b5e1df3229ded99a2bb595497d08f9f0b1aaf6"
      },
      "cell_type": "code",
      "source": "y.shape",
      "execution_count": 19,
      "outputs": [
        {
          "output_type": "execute_result",
          "execution_count": 19,
          "data": {
            "text/plain": "(42000, 10)"
          },
          "metadata": {}
        }
      ]
    },
    {
      "metadata": {
        "trusted": true,
        "_uuid": "c1bb4ef0fc0506a7a236decbcef5a4cc9e24749d",
        "collapsed": true
      },
      "cell_type": "code",
      "source": "X_train,X_test,y_train,y_test = train_test_split(X,y,test_size=1/5,random_state=10)",
      "execution_count": 20,
      "outputs": []
    },
    {
      "metadata": {
        "trusted": true,
        "_uuid": "cd34dabff30879fe815b102065e36e12fdb69954"
      },
      "cell_type": "code",
      "source": "X_test.shape",
      "execution_count": 21,
      "outputs": [
        {
          "output_type": "execute_result",
          "execution_count": 21,
          "data": {
            "text/plain": "(8400, 784)"
          },
          "metadata": {}
        }
      ]
    },
    {
      "metadata": {
        "trusted": true,
        "_uuid": "674527a6c16d879df7e34cb11cad11b5fb47e0cf"
      },
      "cell_type": "code",
      "source": "y_test.shape",
      "execution_count": 22,
      "outputs": [
        {
          "output_type": "execute_result",
          "execution_count": 22,
          "data": {
            "text/plain": "(8400, 10)"
          },
          "metadata": {}
        }
      ]
    },
    {
      "metadata": {
        "trusted": true,
        "collapsed": true,
        "_uuid": "d5533290aceab630635d9c10caea9598031f02ef"
      },
      "cell_type": "code",
      "source": "",
      "execution_count": null,
      "outputs": []
    },
    {
      "metadata": {
        "trusted": true,
        "collapsed": true,
        "_uuid": "884e0a69b187229b3598be319c9fc6518e09d822"
      },
      "cell_type": "code",
      "source": "learning_rate = 0.01\nbatch_size = 128\nn_epochs = 30",
      "execution_count": 23,
      "outputs": []
    },
    {
      "metadata": {
        "trusted": true,
        "collapsed": true,
        "_uuid": "bcc5477d85510121f04cf27febb1520277657c22"
      },
      "cell_type": "code",
      "source": "# feat_inputs = tf.placeholder(dtype=tf.float32,shape=(batch_size, 784),name='feat_inputs')\nfeat_inputs = tf.placeholder(dtype=tf.float32,shape=(batch_size, 784),name='feat_inputs')\n\n# labels = tf.placeholder(tf.int32, (batch_size,1), name='labels') \nlabels = tf.placeholder(tf.int32, (batch_size,10), name='labels') \n\n# ValueError: Cannot feed value of shape (128,) for Tensor 'labels_1:0', which has shape '(128, 1)'",
      "execution_count": 24,
      "outputs": []
    },
    {
      "metadata": {
        "trusted": true,
        "collapsed": true,
        "_uuid": "4a00d151dcd2a575c1a1bebe6254081b46491780"
      },
      "cell_type": "code",
      "source": "w = tf.Variable(tf.random_normal(shape=[784,10], stddev=1), name='weights')\nb = tf.Variable(tf.zeros(shape=[1,10]), name='bias')",
      "execution_count": 25,
      "outputs": []
    },
    {
      "metadata": {
        "trusted": true,
        "collapsed": true,
        "_uuid": "380e85f893602929b0a2bb0161716335264d604a"
      },
      "cell_type": "code",
      "source": "logits = tf.matmul(feat_inputs,w) + b",
      "execution_count": 26,
      "outputs": []
    },
    {
      "metadata": {
        "trusted": true,
        "_uuid": "b81bce730881998c0bb1c61a0f1070fa5eeae8bb"
      },
      "cell_type": "code",
      "source": "entropy = tf.nn.softmax_cross_entropy_with_logits(logits=logits, labels=labels, name='loss')\nloss = tf.reduce_mean(entropy)",
      "execution_count": 27,
      "outputs": [
        {
          "output_type": "stream",
          "text": "WARNING:tensorflow:From <ipython-input-27-6e8eaf6e6af1>:1: softmax_cross_entropy_with_logits (from tensorflow.python.ops.nn_ops) is deprecated and will be removed in a future version.\nInstructions for updating:\n\nFuture major versions of TensorFlow will allow gradients to flow\ninto the labels input on backprop by default.\n\nSee tf.nn.softmax_cross_entropy_with_logits_v2.\n\n",
          "name": "stdout"
        }
      ]
    },
    {
      "metadata": {
        "trusted": true,
        "_uuid": "36ea67bba8197e4208694fbdfdc20c920c2f403c",
        "collapsed": true
      },
      "cell_type": "code",
      "source": "optimizer = tf.train.GradientDescentOptimizer(learning_rate).minimize(loss)",
      "execution_count": 28,
      "outputs": []
    },
    {
      "metadata": {
        "trusted": true,
        "_uuid": "9cfe25b3c878b79144208c9b96f72e46552670fa",
        "collapsed": true
      },
      "cell_type": "code",
      "source": "feat_inputs = X_train.values[:128,:]\nfeat_inputs.shape",
      "execution_count": null,
      "outputs": []
    },
    {
      "metadata": {
        "trusted": true,
        "_uuid": "8dfb706edb137bd4f3dd4cc8d2d8bbd77e1b4e13",
        "collapsed": true
      },
      "cell_type": "code",
      "source": "batch_size = 128\nbatch_size_start = 0\nfor batch in range(3):\n    batch_size_end = (batch+1)*batch_size\n    feat_inputs = X_train[batch_size_start:batch_size_end,:]\n    labels = y_train[batch_size_start:batch_size_end].reshape(batch_size,1)\n    batch_size_start += batch_size        \n\n    print(feat_inputs.shape)\n    print(feat_inputs.dtype)\n    print(feat_inputs.astype(np.float32).dtype)\n#     print(labels)\n    print(labels.dtype)\n    print(labels.astype(np.int32).dtype)\n    print(labels.shape)\n    print('-----------')",
      "execution_count": null,
      "outputs": []
    },
    {
      "metadata": {
        "trusted": true,
        "_uuid": "fa22ce221e4ebbc0d6208c7f025660e0164322cd"
      },
      "cell_type": "code",
      "source": "with tf.name_scope('summaries'):   \n    tf.summary.scalar('loss',loss)\n    merged_summaries = tf.summary.merge_all()\n\nwith tf.Session() as sess:\n    # visualization on tensorboard\n    writer = tf.summary.FileWriter('./mnist_graph', sess.graph, filename_suffix='_Ex2_MNIST')\n#     start_time = time.time()\n    sess.run(tf.global_variables_initializer())\n    n_batches = int(X_train.shape[0]/batch_size)\n    \n#     batch_size_start = 0\n    \"\"\"\n    #     batch_size_start = 0 need to be commmented.\n    ValueError: Cannot feed value of shape (0, 784) for Tensor 'feat_inputs:0', which has shape '(128, 784)'\n    through ```Average loss for epoch 0: 300.39718610457794```,we can find that the first epoch is successful\n    so, the shape of feat_inputs_batch and labels_batch are right.\n    the problem happens the 2nd epoch, put the initial paras into outer for loop, done! yay!    \n    \"\"\"\n    \n    for i in range(n_epochs): # train the model n_epochs times\n        batch_size_start = 0\n        total_loss = 0\n        for batch in range(n_batches):\n            batch_size_end = (batch+1)*batch_size\n            feat_inputs_batch = X_train[batch_size_start:batch_size_end,:].astype(np.float32)\n            labels_batch = y_train[batch_size_start:batch_size_end].astype(np.int32)\n#             labels_batch.reshape(batch_size,1)\n#             TypeError: unhashable type: 'numpy.ndarray'\n# ValueError: Cannot feed value of shape (128,) for Tensor 'labels_1:0', which has shape '(128, 1)'\n            batch_size_start += batch_size            \n#             print(batch, ':', feat_inputs_batch.shape)\n#             print(batch, ':', labels_batch.shape)\n#             feat_inputs, labels = X_train.next_batch(batch_size) # randomly select batch_size samples in dataset\n#     AttributeError: 'DataFrame' object has no attribute 'next_batch'        \n\n            _, loss_batch = sess.run([optimizer, loss], feed_dict={feat_inputs: feat_inputs_batch, labels: labels_batch})\n            total_loss += loss_batch\n#             print('batch loss: ', loss_batch)\n#             print('Total loss: ', total_loss)\n        print('Average loss for epoch {}: {}'.format(i, total_loss/n_batches))        \n        \n#     print('Total running time: {0} seconds'.format(time.time() - start_time))\n    print('Amazing We Made it!') # should be around 0.35 after 25 epochs\n    \n    # test the model\n    preds = tf.nn.softmax(logits)\n    correct_preds = tf.equal(tf.argmax(preds,1), tf.argmax(labels,1))\n    # 这行代码会给我们一组布尔值。为了确定正确预测项的比例，我们可以把布尔值转换成浮点数，然后取平均值。\n    # 例如，[True, False, True, True] 会变成 [1,0,1,1] ，取平均值后得到 0.75\n    count_of_right_predictions = tf.reduce_sum(tf.cast(correct_preds, tf.float32)) \n\n    n_batches = int(X_test.shape[0]/batch_size)\n    total_correct_preds = 0    \n    batch_size_start = 0\n\n    for batch in range(n_batches):\n    #         X_batch, Y_batch = mnist.test.next_batch(batch_size)\n        batch_size_end = (batch+1)*batch_size\n        feat_inputs_batch = X_test[batch_size_start:batch_size_end,:].astype(np.float32)\n        labels_batch = y_test[batch_size_start:batch_size_end].astype(np.int32)\n        batch_size_start += batch_size     \n\n        count_of_right_predictions_per_batch = sess.run(count_of_right_predictions, feed_dict={feat_inputs: feat_inputs_batch, labels: labels_batch})\n        total_correct_preds += count_of_right_predictions_per_batch\n\n    print('Accuracy on the testing sets is: {}'.format(total_correct_preds/X_test.shape[0]))\n\n    writer.close()",
      "execution_count": 29,
      "outputs": [
        {
          "output_type": "stream",
          "text": "Average loss for epoch 0: 318.24509860905073\nAverage loss for epoch 1: 166.87322961647092\nAverage loss for epoch 2: 141.02244013866397\nAverage loss for epoch 3: 128.37997975240228\nAverage loss for epoch 4: 124.37458167185311\nAverage loss for epoch 5: 118.50195567298482\nAverage loss for epoch 6: 121.36155576924331\nAverage loss for epoch 7: 112.5297476207937\nAverage loss for epoch 8: 117.04579345324568\nAverage loss for epoch 9: 105.93613339198454\nAverage loss for epoch 10: 104.17895283589836\nAverage loss for epoch 11: 111.7222518156503\nAverage loss for epoch 12: 111.53750498240231\nAverage loss for epoch 13: 98.07729574924207\nAverage loss for epoch 14: 102.45824585980131\nAverage loss for epoch 15: 105.95527116760952\nAverage loss for epoch 16: 97.89950229557417\nAverage loss for epoch 17: 96.28575398903767\nAverage loss for epoch 18: 99.35170022949917\nAverage loss for epoch 19: 95.31921407466626\nAverage loss for epoch 20: 102.24842995359697\nAverage loss for epoch 21: 97.05621781967979\nAverage loss for epoch 22: 94.24707563414829\nAverage loss for epoch 23: 103.9297134894451\nAverage loss for epoch 24: 97.25242079669283\nAverage loss for epoch 25: 93.13890770373453\nAverage loss for epoch 26: 89.14098572185021\nAverage loss for epoch 27: 95.20481765543232\nAverage loss for epoch 28: 93.63887401391531\nAverage loss for epoch 29: 95.49431839790053\nAmazing We Made it!\nAccuracy on the testing sets is: 0.8901190476190476\n",
          "name": "stdout"
        }
      ]
    },
    {
      "metadata": {
        "trusted": true,
        "_uuid": "b1e46f4459de4ee89dfd8fc2f520862ed53b5394",
        "scrolled": true,
        "collapsed": true
      },
      "cell_type": "code",
      "source": "!tensorboard --logdir=./mnist_graph",
      "execution_count": null,
      "outputs": []
    },
    {
      "metadata": {
        "trusted": true,
        "collapsed": true,
        "_uuid": "61c44a599f0fb9dbcc935b8cc55b811d27f11496"
      },
      "cell_type": "code",
      "source": "",
      "execution_count": null,
      "outputs": []
    }
  ],
  "metadata": {
    "kernelspec": {
      "display_name": "Python 3",
      "language": "python",
      "name": "python3"
    },
    "language_info": {
      "name": "python",
      "version": "3.6.4",
      "mimetype": "text/x-python",
      "codemirror_mode": {
        "name": "ipython",
        "version": 3
      },
      "pygments_lexer": "ipython3",
      "nbconvert_exporter": "python",
      "file_extension": ".py"
    }
  },
  "nbformat": 4,
  "nbformat_minor": 1
}