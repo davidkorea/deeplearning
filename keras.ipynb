{
 "cells": [
  {
   "cell_type": "code",
   "execution_count": 19,
   "metadata": {},
   "outputs": [],
   "source": [
    "import itertools\n",
    "\n",
    "import numpy as np\n",
    "np.random.seed(1)\n",
    "\n",
    "import matplotlib.pyplot as plt\n",
    "from matplotlib.colors import colorConverter, ListedColormap\n",
    "\n",
    "from sklearn.datasets import make_circles\n",
    "from sklearn.model_selection import train_test_split\n",
    "from sklearn.metrics import confusion_matrix\n",
    "\n",
    "from scipy import signal\n",
    "\n",
    "import cv2\n",
    "%matplotlib inline\n",
    "\n",
    "from keras.models import Sequential #类似搭积木，用到一个添加一个\n",
    "from keras.layers import Dense, Dropout, Activation, Flatten\n",
    "from keras.layers.convolutional import Conv2D, MaxPooling2D\n",
    "from keras.optimizers import SGD\n",
    "from keras.utils import np_utils\n",
    "from keras.datasets import mnist\n",
    "import keras.backend as K\n",
    "\n",
    "import tensorflow as tf\n",
    "from keras.backend.tensorflow_backend import set_session\n",
    "\n",
    "# config = tf.ConfigProto()\n",
    "# set_session(tf.Session(config=config))\n",
    "# config = tf.ConfigProto()\n",
    "# config.gpu_options.allow_growth=True\n",
    "# set_session(tf.Session(config=config))\n",
    "set_session(tf.Session())"
   ]
  },
  {
   "cell_type": "markdown",
   "metadata": {},
   "source": [
    "logitstic by keras"
   ]
  },
  {
   "cell_type": "code",
   "execution_count": 20,
   "metadata": {},
   "outputs": [
    {
     "data": {
      "text/plain": [
       "'2.2.2'"
      ]
     },
     "execution_count": 20,
     "metadata": {},
     "output_type": "execute_result"
    }
   ],
   "source": [
    "import keras\n",
    "keras.__version__"
   ]
  },
  {
   "cell_type": "markdown",
   "metadata": {},
   "source": [
    "Synetic data"
   ]
  },
  {
   "cell_type": "code",
   "execution_count": 21,
   "metadata": {},
   "outputs": [
    {
     "name": "stdout",
     "output_type": "stream",
     "text": [
      "X shape:  (5000, 2)\n",
      "x_red shape: (2500, 2)\n",
      "x_blue shape:  (2500, 2)\n"
     ]
    }
   ],
   "source": [
    "X, t = make_circles(n_samples=5000, shuffle=False, factor=0.3, noise=0.1)\n",
    "\"\"\"\n",
    "make_circles(n_samples=100, shuffle=True, noise=None, random_state=None, factor=0.8)\n",
    "\n",
    "Make a large circle containing a smaller circle in 2d.\n",
    "\n",
    "Returns\n",
    "-------\n",
    "X : array of shape [n_samples, 2]\n",
    "    The generated samples.\n",
    "\n",
    "y : array of shape [n_samples]\n",
    "    The integer labels (0 or 1) for class membership of each sample.\n",
    "\"\"\"\n",
    "x_red = X[t==0]\n",
    "x_blue = X[t==1]\n",
    "print('X shape: ', X.shape)\n",
    "print('x_red shape: {}'.format(x_red.shape))\n",
    "print('x_blue shape: ', x_blue.shape)"
   ]
  },
  {
   "cell_type": "code",
   "execution_count": 22,
   "metadata": {},
   "outputs": [
    {
     "data": {
      "text/plain": [
       "Text(0.5,1,'red vs blue classes in the input space')"
      ]
     },
     "execution_count": 22,
     "metadata": {},
     "output_type": "execute_result"
    },
    {
     "data": {
      "image/png": "[encoded data removed]",
      "text/plain": [
       "<Figure size 432x288 with 1 Axes>"
      ]
     },
     "metadata": {},
     "output_type": "display_data"
    }
   ],
   "source": [
    "plt.plot(x_red[:,0], x_red[:,1], 'ro', label='red class')\n",
    "plt.plot(x_blue[:,0], x_blue[:,1], 'bo', label='blue class')\n",
    "plt.grid()\n",
    "plt.legend(loc='best')\n",
    "plt.xlabel('$x_1$', fontsize=15)\n",
    "plt.ylabel('$x_2$', fontsize=15)\n",
    "plt.axis([-1.5,1.5,-1.5,1.5]) # [xmin xmax ymin ymax]\n",
    "plt.title('red vs blue classes in the input space')"
   ]
  },
  {
   "cell_type": "code",
   "execution_count": 23,
   "metadata": {},
   "outputs": [],
   "source": [
    "X_train, X_test, y_train, y_test = train_test_split(X, t, test_size=1/3, random_state=0)"
   ]
  },
  {
   "cell_type": "code",
   "execution_count": 24,
   "metadata": {},
   "outputs": [
    {
     "data": {
      "text/plain": [
       "(1667, 2)"
      ]
     },
     "execution_count": 24,
     "metadata": {},
     "output_type": "execute_result"
    }
   ],
   "source": [
    "X_test.shape"
   ]
  },
  {
   "cell_type": "markdown",
   "metadata": {},
   "source": [
    "simple logitstic regression"
   ]
  },
  {
   "cell_type": "code",
   "execution_count": 25,
   "metadata": {},
   "outputs": [],
   "source": [
    "model = Sequential()\n",
    "model.add(Dense(1, input_dim=2, kernel_initializer='glorot_normal', activation='sigmoid'))\n",
    "# Dense: units=1: Positive integer, dimensionality of the output space\n",
    "sgd = SGD(lr = 0.001, decay=1e-6, momentum=0.9, nesterov=True )\n",
    "# decay: float >= 0. Learning rate decay over each update 衰减, \n",
    "# nesterov: boolean. Whether to apply Nesterov momentum. 往前看一步"
   ]
  },
  {
   "cell_type": "code",
   "execution_count": 26,
   "metadata": {},
   "outputs": [],
   "source": [
    "model.compile(loss='binary_crossentropy', metrics=['accuracy'], optimizer=sgd) "
   ]
  },
  {
   "cell_type": "code",
   "execution_count": 27,
   "metadata": {},
   "outputs": [
    {
     "name": "stdout",
     "output_type": "stream",
     "text": [
      "Train on 3333 samples, validate on 1667 samples\n",
      "Epoch 1/10\n",
      "3333/3333 [==============================] - 0s 131us/step - loss: 0.7524 - acc: 0.5047 - val_loss: 0.7550 - val_acc: 0.5027\n",
      "Epoch 2/10\n",
      "3333/3333 [==============================] - 0s 39us/step - loss: 0.7489 - acc: 0.5020 - val_loss: 0.7514 - val_acc: 0.5033\n",
      "Epoch 3/10\n",
      "3333/3333 [==============================] - 0s 42us/step - loss: 0.7455 - acc: 0.5008 - val_loss: 0.7481 - val_acc: 0.5039\n",
      "Epoch 4/10\n",
      "3333/3333 [==============================] - 0s 45us/step - loss: 0.7422 - acc: 0.4998 - val_loss: 0.7447 - val_acc: 0.5021\n",
      "Epoch 5/10\n",
      "3333/3333 [==============================] - 0s 43us/step - loss: 0.7391 - acc: 0.4989 - val_loss: 0.7415 - val_acc: 0.5003\n",
      "Epoch 6/10\n",
      "3333/3333 [==============================] - 0s 43us/step - loss: 0.7361 - acc: 0.4989 - val_loss: 0.7386 - val_acc: 0.5003\n",
      "Epoch 7/10\n",
      "3333/3333 [==============================] - 0s 43us/step - loss: 0.7332 - acc: 0.4971 - val_loss: 0.7356 - val_acc: 0.4991\n",
      "Epoch 8/10\n",
      "3333/3333 [==============================] - 0s 39us/step - loss: 0.7306 - acc: 0.4965 - val_loss: 0.7329 - val_acc: 0.4997\n",
      "Epoch 9/10\n",
      "3333/3333 [==============================] - 0s 43us/step - loss: 0.7280 - acc: 0.4962 - val_loss: 0.7304 - val_acc: 0.4991\n",
      "Epoch 10/10\n",
      "3333/3333 [==============================] - 0s 39us/step - loss: 0.7256 - acc: 0.4959 - val_loss: 0.7280 - val_acc: 0.4991\n"
     ]
    }
   ],
   "source": [
    "history = model.fit(X_train,y_train, validation_data=(X_test,y_test), verbose = 1, batch_size = 64, epochs = 10)"
   ]
  },
  {
   "cell_type": "code",
   "execution_count": 28,
   "metadata": {},
   "outputs": [],
   "source": [
    "def nn_predict(model, X):\n",
    "    # logistic regression returns probability, need to tranform to label0, 1\n",
    "    return (model.predict(X)>0.5).astype(int)"
   ]
  },
  {
   "cell_type": "code",
   "execution_count": 29,
   "metadata": {},
   "outputs": [
    {
     "data": {
      "image/png": "[encoded data removed]",
      "text/plain": [
       "<Figure size 432x288 with 1 Axes>"
      ]
     },
     "metadata": {},
     "output_type": "display_data"
    }
   ],
   "source": [
    "#Plot the resulting decision boundary\n",
    "#Generate a grid over the input space to plot the color of the\n",
    "#classification at that grid point\n",
    "nb_of_xs = 200\n",
    "xs1 = np.linspace(-2, 2, num = nb_of_xs)\n",
    "xs2 = np.linspace(-2, 2, num = nb_of_xs)\n",
    "xx, yy = np.meshgrid(xs1, xs2) # create the grid\n",
    "#Initialize and fill the classification plane\n",
    "classification_plane = np.zeros((nb_of_xs, nb_of_xs))\n",
    "for i in range(nb_of_xs):\n",
    "    for j in range(nb_of_xs):\n",
    "        pred = nn_predict(model, np.array([[xx[i,j], yy[i,j]]]))\n",
    "        classification_plane[i, j] = pred[0, 0]\n",
    "#Create a color map to show the classification colors of each grid point\n",
    "cmap = ListedColormap([\n",
    "        colorConverter.to_rgba('b', alpha = 0.30),\n",
    "        colorConverter.to_rgba('r', alpha = 0.30)])\n",
    "\n",
    "#Plot the classification plane with decision boundary and input samples\n",
    "plt.contourf(xx, yy, classification_plane, cmap=cmap)\n",
    "#Plot both classes on the x1, x2 plane\n",
    "plt.plot(x_red[:, 0], x_red[:, 1], 'ro', label = 'red class')\n",
    "plt.plot(x_blue[:, 0], x_blue[:, 1], 'bo', label = 'blue class ')\n",
    "plt.grid()\n",
    "plt.legend(loc = 1)\n",
    "plt.xlabel('$x_1$', fontsize = 15)\n",
    "plt.ylabel('$x_2$', fontsize = 15)\n",
    "plt.axis([-1.5, 1.5, -1.5, 1.5])\n",
    "plt.title('red vs blue classification boundary')\n",
    "plt.show()"
   ]
  },
  {
   "cell_type": "code",
   "execution_count": 30,
   "metadata": {},
   "outputs": [],
   "source": [
    "def plot_confusion_matrix(cm, classes,\n",
    "                          normalize=False,\n",
    "                          title='Confusion matrix',\n",
    "                          cmap=plt.cm.Blues):\n",
    "    \"\"\"\n",
    "    This function prints and plots the confusion matrix.\n",
    "    Normalization can be applied by setting `normalize=True`.\n",
    "    \"\"\"\n",
    "    plt.imshow(cm, interpolation='nearest', cmap=cmap)\n",
    "    plt.title(title)\n",
    "    plt.colorbar()\n",
    "    tick_marks = np.arange(len(classes))\n",
    "    plt.xticks(tick_marks, classes, rotation=45)\n",
    "    plt.yticks(tick_marks, classes)\n",
    "\n",
    "    if normalize:\n",
    "        cm = cm.astype('float') / cm.sum(axis=1)[:, np.newaxis]\n",
    "        print(\"Normalized confusion matrix\")\n",
    "    else:\n",
    "        print('Confusion matrix, without normalization')\n",
    "\n",
    "    print(cm)\n",
    "\n",
    "    thresh = cm.max() / 2.\n",
    "    for i, j in itertools.product(range(cm.shape[0]), range(cm.shape[1])):\n",
    "        plt.text(j, i, cm[i, j],\n",
    "                 horizontalalignment=\"center\",\n",
    "                 color=\"white\" if cm[i, j] > thresh else \"black\")\n",
    "\n",
    "    plt.tight_layout()\n",
    "    plt.ylabel('True label')\n",
    "    plt.xlabel('Predicted label')"
   ]
  },
  {
   "cell_type": "code",
   "execution_count": 31,
   "metadata": {},
   "outputs": [],
   "source": [
    "y_test_pred = nn_predict(model, X_test)\n",
    "#Show confusion table\n",
    "conf_matrix = confusion_matrix(y_test, y_test_pred, labels = None)"
   ]
  },
  {
   "cell_type": "code",
   "execution_count": 32,
   "metadata": {},
   "outputs": [
    {
     "name": "stdout",
     "output_type": "stream",
     "text": [
      "Confusion matrix, without normalization\n",
      "[[404 402]\n",
      " [433 428]]\n"
     ]
    },
    {
     "data": {
      "image/png": "[encoded data removed]",
      "text/plain": [
       "<Figure size 432x288 with 2 Axes>"
      ]
     },
     "metadata": {},
     "output_type": "display_data"
    }
   ],
   "source": [
    "np.set_printoptions(precision=2)\n",
    "\n",
    "# Plot non-normalized confusion matrix\n",
    "plt.figure()\n",
    "plot_confusion_matrix(conf_matrix, classes=['red', 'blue'],\n",
    "                      title='Confusion matrix, without normalization')"
   ]
  },
  {
   "cell_type": "markdown",
   "metadata": {},
   "source": [
    "Neural Network with Nonlinear Activation"
   ]
  },
  {
   "cell_type": "code",
   "execution_count": null,
   "metadata": {},
   "outputs": [],
   "source": []
  }
 ],
 "metadata": {
  "kernelspec": {
   "display_name": "Python 3",
   "language": "python",
   "name": "python3"
  },
  "language_info": {
   "codemirror_mode": {
    "name": "ipython",
    "version": 3
   },
   "file_extension": ".py",
   "mimetype": "text/x-python",
   "name": "python",
   "nbconvert_exporter": "python",
   "pygments_lexer": "ipython3",
   "version": "3.6.3"
  }
 },
 "nbformat": 4,
 "nbformat_minor": 2
}
